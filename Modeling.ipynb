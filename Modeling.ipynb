{
 "cells": [
  {
   "cell_type": "code",
   "execution_count": 22,
   "id": "d5533dd4",
   "metadata": {
    "scrolled": true
   },
   "outputs": [],
   "source": [
    "import pandas as pd\n",
    "import numpy as np\n",
    "import matplotlib.pyplot as plt\n",
    "import seaborn as sns\n",
    "from sklearn.model_selection import train_test_split, GridSearchCV, RandomizedSearchCV\n",
    "from sklearn.feature_selection import SelectKBest, f_regression, mutual_info_regression\n",
    "from sklearn.preprocessing import StandardScaler\n",
    "from sklearn.pipeline import Pipeline\n",
    "from sklearn.linear_model import Ridge\n",
    "from sklearn.svm import LinearSVR, SVR\n",
    "from sklearn.ensemble import RandomForestRegressor, GradientBoostingRegressor\n",
    "from sklearn.compose import ColumnTransformer\n",
    "from sklearn.metrics import explained_variance_score, max_error, mean_squared_error, r2_score\n",
    "#from scipy.stats import uniform"
   ]
  },
  {
   "cell_type": "code",
   "execution_count": 2,
   "id": "2acfb570",
   "metadata": {
    "scrolled": true
   },
   "outputs": [
    {
     "data": {
      "text/html": [
       "<div>\n",
       "<style scoped>\n",
       "    .dataframe tbody tr th:only-of-type {\n",
       "        vertical-align: middle;\n",
       "    }\n",
       "\n",
       "    .dataframe tbody tr th {\n",
       "        vertical-align: top;\n",
       "    }\n",
       "\n",
       "    .dataframe thead th {\n",
       "        text-align: right;\n",
       "    }\n",
       "</style>\n",
       "<table border=\"1\" class=\"dataframe\">\n",
       "  <thead>\n",
       "    <tr style=\"text-align: right;\">\n",
       "      <th></th>\n",
       "      <th>year</th>\n",
       "      <th>price</th>\n",
       "      <th>mileage</th>\n",
       "      <th>tax</th>\n",
       "      <th>mpg</th>\n",
       "      <th>engineSize</th>\n",
       "      <th>make_audi</th>\n",
       "      <th>make_bmw</th>\n",
       "      <th>make_ford</th>\n",
       "      <th>make_hyundai</th>\n",
       "      <th>...</th>\n",
       "      <th>transmission_Automatic</th>\n",
       "      <th>transmission_Manual</th>\n",
       "      <th>transmission_Other</th>\n",
       "      <th>transmission_Semi-Auto</th>\n",
       "      <th>fuelType_Diesel</th>\n",
       "      <th>fuelType_Electric</th>\n",
       "      <th>fuelType_Hybrid</th>\n",
       "      <th>fuelType_Other</th>\n",
       "      <th>fuelType_Petrol</th>\n",
       "      <th>avgModelPrice</th>\n",
       "    </tr>\n",
       "  </thead>\n",
       "  <tbody>\n",
       "    <tr>\n",
       "      <th>0</th>\n",
       "      <td>2017</td>\n",
       "      <td>12500</td>\n",
       "      <td>15735</td>\n",
       "      <td>150</td>\n",
       "      <td>55.4</td>\n",
       "      <td>1.4</td>\n",
       "      <td>1</td>\n",
       "      <td>0</td>\n",
       "      <td>0</td>\n",
       "      <td>0</td>\n",
       "      <td>...</td>\n",
       "      <td>0</td>\n",
       "      <td>1</td>\n",
       "      <td>0</td>\n",
       "      <td>0</td>\n",
       "      <td>0</td>\n",
       "      <td>0</td>\n",
       "      <td>0</td>\n",
       "      <td>0</td>\n",
       "      <td>1</td>\n",
       "      <td>14272.146067</td>\n",
       "    </tr>\n",
       "    <tr>\n",
       "      <th>1</th>\n",
       "      <td>2016</td>\n",
       "      <td>16500</td>\n",
       "      <td>36203</td>\n",
       "      <td>20</td>\n",
       "      <td>64.2</td>\n",
       "      <td>2.0</td>\n",
       "      <td>1</td>\n",
       "      <td>0</td>\n",
       "      <td>0</td>\n",
       "      <td>0</td>\n",
       "      <td>...</td>\n",
       "      <td>1</td>\n",
       "      <td>0</td>\n",
       "      <td>0</td>\n",
       "      <td>0</td>\n",
       "      <td>1</td>\n",
       "      <td>0</td>\n",
       "      <td>0</td>\n",
       "      <td>0</td>\n",
       "      <td>0</td>\n",
       "      <td>22703.678715</td>\n",
       "    </tr>\n",
       "    <tr>\n",
       "      <th>2</th>\n",
       "      <td>2016</td>\n",
       "      <td>11000</td>\n",
       "      <td>29946</td>\n",
       "      <td>30</td>\n",
       "      <td>55.4</td>\n",
       "      <td>1.4</td>\n",
       "      <td>1</td>\n",
       "      <td>0</td>\n",
       "      <td>0</td>\n",
       "      <td>0</td>\n",
       "      <td>...</td>\n",
       "      <td>0</td>\n",
       "      <td>1</td>\n",
       "      <td>0</td>\n",
       "      <td>0</td>\n",
       "      <td>0</td>\n",
       "      <td>0</td>\n",
       "      <td>0</td>\n",
       "      <td>0</td>\n",
       "      <td>1</td>\n",
       "      <td>14273.269663</td>\n",
       "    </tr>\n",
       "    <tr>\n",
       "      <th>3</th>\n",
       "      <td>2017</td>\n",
       "      <td>16800</td>\n",
       "      <td>25952</td>\n",
       "      <td>145</td>\n",
       "      <td>67.3</td>\n",
       "      <td>2.0</td>\n",
       "      <td>1</td>\n",
       "      <td>0</td>\n",
       "      <td>0</td>\n",
       "      <td>0</td>\n",
       "      <td>...</td>\n",
       "      <td>1</td>\n",
       "      <td>0</td>\n",
       "      <td>0</td>\n",
       "      <td>0</td>\n",
       "      <td>1</td>\n",
       "      <td>0</td>\n",
       "      <td>0</td>\n",
       "      <td>0</td>\n",
       "      <td>0</td>\n",
       "      <td>20248.330663</td>\n",
       "    </tr>\n",
       "    <tr>\n",
       "      <th>4</th>\n",
       "      <td>2019</td>\n",
       "      <td>17300</td>\n",
       "      <td>1998</td>\n",
       "      <td>145</td>\n",
       "      <td>49.6</td>\n",
       "      <td>1.0</td>\n",
       "      <td>1</td>\n",
       "      <td>0</td>\n",
       "      <td>0</td>\n",
       "      <td>0</td>\n",
       "      <td>...</td>\n",
       "      <td>0</td>\n",
       "      <td>1</td>\n",
       "      <td>0</td>\n",
       "      <td>0</td>\n",
       "      <td>0</td>\n",
       "      <td>0</td>\n",
       "      <td>0</td>\n",
       "      <td>0</td>\n",
       "      <td>1</td>\n",
       "      <td>17419.136197</td>\n",
       "    </tr>\n",
       "  </tbody>\n",
       "</table>\n",
       "<p>5 rows × 25 columns</p>\n",
       "</div>"
      ],
      "text/plain": [
       "   year  price  mileage  tax   mpg  engineSize  make_audi  make_bmw  \\\n",
       "0  2017  12500    15735  150  55.4         1.4          1         0   \n",
       "1  2016  16500    36203   20  64.2         2.0          1         0   \n",
       "2  2016  11000    29946   30  55.4         1.4          1         0   \n",
       "3  2017  16800    25952  145  67.3         2.0          1         0   \n",
       "4  2019  17300     1998  145  49.6         1.0          1         0   \n",
       "\n",
       "   make_ford  make_hyundai  ...  transmission_Automatic  transmission_Manual  \\\n",
       "0          0             0  ...                       0                    1   \n",
       "1          0             0  ...                       1                    0   \n",
       "2          0             0  ...                       0                    1   \n",
       "3          0             0  ...                       1                    0   \n",
       "4          0             0  ...                       0                    1   \n",
       "\n",
       "   transmission_Other  transmission_Semi-Auto  fuelType_Diesel  \\\n",
       "0                   0                       0                0   \n",
       "1                   0                       0                1   \n",
       "2                   0                       0                0   \n",
       "3                   0                       0                1   \n",
       "4                   0                       0                0   \n",
       "\n",
       "   fuelType_Electric  fuelType_Hybrid  fuelType_Other  fuelType_Petrol  \\\n",
       "0                  0                0               0                1   \n",
       "1                  0                0               0                0   \n",
       "2                  0                0               0                1   \n",
       "3                  0                0               0                0   \n",
       "4                  0                0               0                1   \n",
       "\n",
       "   avgModelPrice  \n",
       "0   14272.146067  \n",
       "1   22703.678715  \n",
       "2   14273.269663  \n",
       "3   20248.330663  \n",
       "4   17419.136197  \n",
       "\n",
       "[5 rows x 25 columns]"
      ]
     },
     "execution_count": 2,
     "metadata": {},
     "output_type": "execute_result"
    }
   ],
   "source": [
    "data = pd.read_csv('processedData.csv')\n",
    "data.head()"
   ]
  },
  {
   "cell_type": "code",
   "execution_count": 3,
   "id": "5b9145a9",
   "metadata": {
    "scrolled": true
   },
   "outputs": [
    {
     "data": {
      "text/plain": [
       "(97443, 25)"
      ]
     },
     "execution_count": 3,
     "metadata": {},
     "output_type": "execute_result"
    }
   ],
   "source": [
    "data.shape"
   ]
  },
  {
   "cell_type": "code",
   "execution_count": 28,
   "id": "655cb201",
   "metadata": {
    "scrolled": true
   },
   "outputs": [],
   "source": [
    "#split data\n",
    "X = data.drop(columns='price')\n",
    "y = data.price\n",
    "X_train, X_test, y_train, y_test = train_test_split(X, y, test_size=0.3, random_state=191)"
   ]
  },
  {
   "cell_type": "code",
   "execution_count": 5,
   "id": "8e6327a6",
   "metadata": {
    "scrolled": true
   },
   "outputs": [],
   "source": [
    "#first model: Ridge regression\n",
    "stdsclr = StandardScaler()\n",
    "colScaler = ColumnTransformer(remainder='passthrough', transformers=[('scale',stdsclr,['year','mileage','tax','mpg','engineSize','avgModelPrice'])])\n",
    "ridgePipeline = Pipeline([('scale', colScaler),('model', Ridge())])\n",
    "params = {'model__alpha':np.logspace(-6, 6, 13)}\n",
    "#version with SelectKBest, not working/useful\n",
    "#ridgePipeline = Pipeline([('scale', colScaler),\n",
    "#                          ('selKB', SelectKBest(score_func=f_regression)),\n",
    "#                          ('model', Ridge())])\n",
    "#params = {'selKB__k':range(1,25),'model__alpha':np.logspace(-6, 6, 13)}\n",
    "ridgeSearch = GridSearchCV(ridgePipeline, params, scoring='neg_mean_absolute_error', verbose = 3, cv = 5)"
   ]
  },
  {
   "cell_type": "code",
   "execution_count": 6,
   "id": "55e153fc",
   "metadata": {
    "scrolled": true
   },
   "outputs": [
    {
     "name": "stdout",
     "output_type": "stream",
     "text": [
      "Fitting 5 folds for each of 13 candidates, totalling 65 fits\n",
      "[CV 1/5] END ............model__alpha=1e-06;, score=-2413.635 total time=   0.0s\n",
      "[CV 2/5] END ............model__alpha=1e-06;, score=-2400.872 total time=   0.0s\n",
      "[CV 3/5] END ............model__alpha=1e-06;, score=-2405.677 total time=   0.0s\n",
      "[CV 4/5] END ............model__alpha=1e-06;, score=-2409.441 total time=   0.0s\n",
      "[CV 5/5] END ............model__alpha=1e-06;, score=-2406.214 total time=   0.0s\n",
      "[CV 1/5] END ............model__alpha=1e-05;, score=-2413.635 total time=   0.0s\n",
      "[CV 2/5] END ............model__alpha=1e-05;, score=-2400.872 total time=   0.0s\n",
      "[CV 3/5] END ............model__alpha=1e-05;, score=-2405.677 total time=   0.0s\n",
      "[CV 4/5] END ............model__alpha=1e-05;, score=-2409.441 total time=   0.0s\n",
      "[CV 5/5] END ............model__alpha=1e-05;, score=-2406.214 total time=   0.0s\n",
      "[CV 1/5] END ...........model__alpha=0.0001;, score=-2413.635 total time=   0.0s\n",
      "[CV 2/5] END ...........model__alpha=0.0001;, score=-2400.872 total time=   0.0s\n",
      "[CV 3/5] END ...........model__alpha=0.0001;, score=-2405.677 total time=   0.0s\n",
      "[CV 4/5] END ...........model__alpha=0.0001;, score=-2409.441 total time=   0.0s\n",
      "[CV 5/5] END ...........model__alpha=0.0001;, score=-2406.214 total time=   0.0s\n",
      "[CV 1/5] END ............model__alpha=0.001;, score=-2413.635 total time=   0.0s\n",
      "[CV 2/5] END ............model__alpha=0.001;, score=-2400.872 total time=   0.0s\n",
      "[CV 3/5] END ............model__alpha=0.001;, score=-2405.677 total time=   0.0s\n",
      "[CV 4/5] END ............model__alpha=0.001;, score=-2409.441 total time=   0.0s\n",
      "[CV 5/5] END ............model__alpha=0.001;, score=-2406.214 total time=   0.0s\n",
      "[CV 1/5] END .............model__alpha=0.01;, score=-2413.634 total time=   0.0s\n",
      "[CV 2/5] END .............model__alpha=0.01;, score=-2400.873 total time=   0.0s\n",
      "[CV 3/5] END .............model__alpha=0.01;, score=-2405.677 total time=   0.0s\n",
      "[CV 4/5] END .............model__alpha=0.01;, score=-2409.443 total time=   0.0s\n",
      "[CV 5/5] END .............model__alpha=0.01;, score=-2406.215 total time=   0.0s\n",
      "[CV 1/5] END ..............model__alpha=0.1;, score=-2413.625 total time=   0.0s\n",
      "[CV 2/5] END ..............model__alpha=0.1;, score=-2400.873 total time=   0.0s\n",
      "[CV 3/5] END ..............model__alpha=0.1;, score=-2405.671 total time=   0.0s\n",
      "[CV 4/5] END ..............model__alpha=0.1;, score=-2409.454 total time=   0.0s\n",
      "[CV 5/5] END ..............model__alpha=0.1;, score=-2406.225 total time=   0.0s\n",
      "[CV 1/5] END ..............model__alpha=1.0;, score=-2413.546 total time=   0.0s\n",
      "[CV 2/5] END ..............model__alpha=1.0;, score=-2400.871 total time=   0.0s\n",
      "[CV 3/5] END ..............model__alpha=1.0;, score=-2405.633 total time=   0.0s\n",
      "[CV 4/5] END ..............model__alpha=1.0;, score=-2409.523 total time=   0.0s\n",
      "[CV 5/5] END ..............model__alpha=1.0;, score=-2406.290 total time=   0.0s\n",
      "[CV 1/5] END .............model__alpha=10.0;, score=-2413.060 total time=   0.0s\n",
      "[CV 2/5] END .............model__alpha=10.0;, score=-2400.695 total time=   0.0s\n",
      "[CV 3/5] END .............model__alpha=10.0;, score=-2405.458 total time=   0.0s\n",
      "[CV 4/5] END .............model__alpha=10.0;, score=-2409.448 total time=   0.0s\n",
      "[CV 5/5] END .............model__alpha=10.0;, score=-2406.246 total time=   0.0s\n",
      "[CV 1/5] END ............model__alpha=100.0;, score=-2410.263 total time=   0.0s\n",
      "[CV 2/5] END ............model__alpha=100.0;, score=-2398.856 total time=   0.0s\n",
      "[CV 3/5] END ............model__alpha=100.0;, score=-2404.726 total time=   0.0s\n",
      "[CV 4/5] END ............model__alpha=100.0;, score=-2407.381 total time=   0.0s\n",
      "[CV 5/5] END ............model__alpha=100.0;, score=-2404.537 total time=   0.0s\n",
      "[CV 1/5] END ...........model__alpha=1000.0;, score=-2398.529 total time=   0.0s\n",
      "[CV 2/5] END ...........model__alpha=1000.0;, score=-2389.898 total time=   0.0s\n",
      "[CV 3/5] END ...........model__alpha=1000.0;, score=-2400.687 total time=   0.0s\n",
      "[CV 4/5] END ...........model__alpha=1000.0;, score=-2400.455 total time=   0.0s\n",
      "[CV 5/5] END ...........model__alpha=1000.0;, score=-2396.908 total time=   0.0s\n",
      "[CV 1/5] END ..........model__alpha=10000.0;, score=-2424.299 total time=   0.0s\n",
      "[CV 2/5] END ..........model__alpha=10000.0;, score=-2417.211 total time=   0.0s\n",
      "[CV 3/5] END ..........model__alpha=10000.0;, score=-2451.039 total time=   0.0s\n",
      "[CV 4/5] END ..........model__alpha=10000.0;, score=-2442.217 total time=   0.0s\n",
      "[CV 5/5] END ..........model__alpha=10000.0;, score=-2431.578 total time=   0.0s\n",
      "[CV 1/5] END .........model__alpha=100000.0;, score=-3743.019 total time=   0.0s\n",
      "[CV 2/5] END .........model__alpha=100000.0;, score=-3768.379 total time=   0.0s\n",
      "[CV 3/5] END .........model__alpha=100000.0;, score=-3791.717 total time=   0.0s\n",
      "[CV 4/5] END .........model__alpha=100000.0;, score=-3763.413 total time=   0.0s\n",
      "[CV 5/5] END .........model__alpha=100000.0;, score=-3760.021 total time=   0.0s\n",
      "[CV 1/5] END ........model__alpha=1000000.0;, score=-6348.452 total time=   0.0s\n",
      "[CV 2/5] END ........model__alpha=1000000.0;, score=-6392.157 total time=   0.0s\n",
      "[CV 3/5] END ........model__alpha=1000000.0;, score=-6382.502 total time=   0.0s\n",
      "[CV 4/5] END ........model__alpha=1000000.0;, score=-6353.573 total time=   0.0s\n",
      "[CV 5/5] END ........model__alpha=1000000.0;, score=-6389.183 total time=   0.0s\n"
     ]
    },
    {
     "data": {
      "text/plain": [
       "GridSearchCV(cv=5,\n",
       "             estimator=Pipeline(steps=[('scale',\n",
       "                                        ColumnTransformer(remainder='passthrough',\n",
       "                                                          transformers=[('scale',\n",
       "                                                                         StandardScaler(),\n",
       "                                                                         ['year',\n",
       "                                                                          'mileage',\n",
       "                                                                          'tax',\n",
       "                                                                          'mpg',\n",
       "                                                                          'engineSize',\n",
       "                                                                          'avgModelPrice'])])),\n",
       "                                       ('model', Ridge())]),\n",
       "             param_grid={'model__alpha': array([1.e-06, 1.e-05, 1.e-04, 1.e-03, 1.e-02, 1.e-01, 1.e+00, 1.e+01,\n",
       "       1.e+02, 1.e+03, 1.e+04, 1.e+05, 1.e+06])},\n",
       "             scoring='neg_mean_absolute_error', verbose=3)"
      ]
     },
     "execution_count": 6,
     "metadata": {},
     "output_type": "execute_result"
    }
   ],
   "source": [
    "ridgeSearch.fit(X_train, y_train)"
   ]
  },
  {
   "cell_type": "code",
   "execution_count": 7,
   "id": "3a46c6d4",
   "metadata": {
    "scrolled": true
   },
   "outputs": [
    {
     "data": {
      "text/plain": [
       "{'model__alpha': 1000.0}"
      ]
     },
     "execution_count": 7,
     "metadata": {},
     "output_type": "execute_result"
    }
   ],
   "source": [
    "ridgeSearch.best_params_"
   ]
  },
  {
   "cell_type": "code",
   "execution_count": 5,
   "id": "df3699c9",
   "metadata": {
    "scrolled": true
   },
   "outputs": [],
   "source": [
    "#keep model for future comparison\n",
    "ridgeModel = Ridge(alpha=1000)"
   ]
  },
  {
   "cell_type": "code",
   "execution_count": 9,
   "id": "75c253c8",
   "metadata": {
    "scrolled": true
   },
   "outputs": [],
   "source": [
    "#second model: SVR\n",
    "svr = LinearSVR(dual=False, loss='squared_epsilon_insensitive')\n",
    "svrPipeline = Pipeline([('scale', colScaler),('model', svr)])\n",
    "params = {'model__C':np.logspace(-6, 6, 13), 'model__tol':np.logspace(-8, -2, 7)}\n",
    "svrSearch = GridSearchCV(svrPipeline, params, scoring='neg_mean_absolute_error', verbose = 3, cv = 5)"
   ]
  },
  {
   "cell_type": "code",
   "execution_count": 10,
   "id": "d2d61564",
   "metadata": {
    "scrolled": true
   },
   "outputs": [
    {
     "name": "stdout",
     "output_type": "stream",
     "text": [
      "Fitting 5 folds for each of 91 candidates, totalling 455 fits\n",
      "[CV 1/5] END model__C=1e-06, model__tol=1e-08;, score=-13758.477 total time=   0.0s\n",
      "[CV 2/5] END model__C=1e-06, model__tol=1e-08;, score=-13863.589 total time=   0.0s\n",
      "[CV 3/5] END model__C=1e-06, model__tol=1e-08;, score=-13883.509 total time=   0.0s\n",
      "[CV 4/5] END model__C=1e-06, model__tol=1e-08;, score=-13872.352 total time=   0.0s\n",
      "[CV 5/5] END model__C=1e-06, model__tol=1e-08;, score=-13777.194 total time=   0.0s\n",
      "[CV 1/5] END model__C=1e-06, model__tol=1e-07;, score=-13758.477 total time=   0.0s\n",
      "[CV 2/5] END model__C=1e-06, model__tol=1e-07;, score=-13863.589 total time=   0.0s\n",
      "[CV 3/5] END model__C=1e-06, model__tol=1e-07;, score=-13883.509 total time=   0.0s\n",
      "[CV 4/5] END model__C=1e-06, model__tol=1e-07;, score=-13872.352 total time=   0.0s\n",
      "[CV 5/5] END model__C=1e-06, model__tol=1e-07;, score=-13777.194 total time=   0.0s\n",
      "[CV 1/5] END model__C=1e-06, model__tol=1e-06;, score=-13758.477 total time=   0.0s\n",
      "[CV 2/5] END model__C=1e-06, model__tol=1e-06;, score=-13863.590 total time=   0.0s\n",
      "[CV 3/5] END model__C=1e-06, model__tol=1e-06;, score=-13883.509 total time=   0.0s\n",
      "[CV 4/5] END model__C=1e-06, model__tol=1e-06;, score=-13872.352 total time=   0.0s\n",
      "[CV 5/5] END model__C=1e-06, model__tol=1e-06;, score=-13777.194 total time=   0.0s\n",
      "[CV 1/5] END model__C=1e-06, model__tol=1e-05;, score=-13758.477 total time=   0.0s\n",
      "[CV 2/5] END model__C=1e-06, model__tol=1e-05;, score=-13863.590 total time=   0.0s\n",
      "[CV 3/5] END model__C=1e-06, model__tol=1e-05;, score=-13883.509 total time=   0.0s\n",
      "[CV 4/5] END model__C=1e-06, model__tol=1e-05;, score=-13872.352 total time=   0.0s\n",
      "[CV 5/5] END model__C=1e-06, model__tol=1e-05;, score=-13777.194 total time=   0.0s\n",
      "[CV 1/5] END model__C=1e-06, model__tol=0.0001;, score=-13758.477 total time=   0.0s\n",
      "[CV 2/5] END model__C=1e-06, model__tol=0.0001;, score=-13863.590 total time=   0.0s\n",
      "[CV 3/5] END model__C=1e-06, model__tol=0.0001;, score=-13883.509 total time=   0.0s\n",
      "[CV 4/5] END model__C=1e-06, model__tol=0.0001;, score=-13872.352 total time=   0.0s\n",
      "[CV 5/5] END model__C=1e-06, model__tol=0.0001;, score=-13777.194 total time=   0.0s\n",
      "[CV 1/5] END model__C=1e-06, model__tol=0.001;, score=-13758.524 total time=   0.0s\n",
      "[CV 2/5] END model__C=1e-06, model__tol=0.001;, score=-13863.634 total time=   0.0s\n",
      "[CV 3/5] END model__C=1e-06, model__tol=0.001;, score=-13883.554 total time=   0.0s\n",
      "[CV 4/5] END model__C=1e-06, model__tol=0.001;, score=-13872.398 total time=   0.0s\n",
      "[CV 5/5] END model__C=1e-06, model__tol=0.001;, score=-13777.242 total time=   0.0s\n",
      "[CV 1/5] END model__C=1e-06, model__tol=0.01;, score=-13758.231 total time=   0.0s\n",
      "[CV 2/5] END model__C=1e-06, model__tol=0.01;, score=-13863.442 total time=   0.0s\n",
      "[CV 3/5] END model__C=1e-06, model__tol=0.01;, score=-13883.359 total time=   0.0s\n",
      "[CV 4/5] END model__C=1e-06, model__tol=0.01;, score=-13872.225 total time=   0.0s\n",
      "[CV 5/5] END model__C=1e-06, model__tol=0.01;, score=-13776.997 total time=   0.0s\n",
      "[CV 1/5] END model__C=1e-05, model__tol=1e-08;, score=-5440.719 total time=   0.0s\n",
      "[CV 2/5] END model__C=1e-05, model__tol=1e-08;, score=-5495.300 total time=   0.0s\n",
      "[CV 3/5] END model__C=1e-05, model__tol=1e-08;, score=-5511.542 total time=   0.0s\n",
      "[CV 4/5] END model__C=1e-05, model__tol=1e-08;, score=-5522.235 total time=   0.0s\n",
      "[CV 5/5] END model__C=1e-05, model__tol=1e-08;, score=-5443.583 total time=   0.0s\n",
      "[CV 1/5] END model__C=1e-05, model__tol=1e-07;, score=-5440.719 total time=   0.0s\n",
      "[CV 2/5] END model__C=1e-05, model__tol=1e-07;, score=-5495.300 total time=   0.0s\n",
      "[CV 3/5] END model__C=1e-05, model__tol=1e-07;, score=-5511.542 total time=   0.0s\n",
      "[CV 4/5] END model__C=1e-05, model__tol=1e-07;, score=-5522.235 total time=   0.0s\n",
      "[CV 5/5] END model__C=1e-05, model__tol=1e-07;, score=-5443.583 total time=   0.0s\n",
      "[CV 1/5] END model__C=1e-05, model__tol=1e-06;, score=-5440.726 total time=   0.0s\n",
      "[CV 2/5] END model__C=1e-05, model__tol=1e-06;, score=-5495.306 total time=   0.0s\n",
      "[CV 3/5] END model__C=1e-05, model__tol=1e-06;, score=-5511.549 total time=   0.0s\n",
      "[CV 4/5] END model__C=1e-05, model__tol=1e-06;, score=-5522.241 total time=   0.0s\n",
      "[CV 5/5] END model__C=1e-05, model__tol=1e-06;, score=-5443.589 total time=   0.0s\n",
      "[CV 1/5] END model__C=1e-05, model__tol=1e-05;, score=-5440.726 total time=   0.0s\n",
      "[CV 2/5] END model__C=1e-05, model__tol=1e-05;, score=-5495.306 total time=   0.0s\n",
      "[CV 3/5] END model__C=1e-05, model__tol=1e-05;, score=-5511.549 total time=   0.0s\n",
      "[CV 4/5] END model__C=1e-05, model__tol=1e-05;, score=-5522.241 total time=   0.0s\n",
      "[CV 5/5] END model__C=1e-05, model__tol=1e-05;, score=-5443.589 total time=   0.0s\n",
      "[CV 1/5] END model__C=1e-05, model__tol=0.0001;, score=-5440.731 total time=   0.0s\n",
      "[CV 2/5] END model__C=1e-05, model__tol=0.0001;, score=-5495.309 total time=   0.0s\n",
      "[CV 3/5] END model__C=1e-05, model__tol=0.0001;, score=-5511.554 total time=   0.0s\n",
      "[CV 4/5] END model__C=1e-05, model__tol=0.0001;, score=-5522.246 total time=   0.0s\n",
      "[CV 5/5] END model__C=1e-05, model__tol=0.0001;, score=-5443.595 total time=   0.0s\n",
      "[CV 1/5] END model__C=1e-05, model__tol=0.001;, score=-5440.385 total time=   0.0s\n",
      "[CV 2/5] END model__C=1e-05, model__tol=0.001;, score=-5494.951 total time=   0.0s\n",
      "[CV 3/5] END model__C=1e-05, model__tol=0.001;, score=-5511.230 total time=   0.0s\n",
      "[CV 4/5] END model__C=1e-05, model__tol=0.001;, score=-5521.897 total time=   0.0s\n",
      "[CV 5/5] END model__C=1e-05, model__tol=0.001;, score=-5443.216 total time=   0.0s\n",
      "[CV 1/5] END model__C=1e-05, model__tol=0.01;, score=-5445.730 total time=   0.0s\n",
      "[CV 2/5] END model__C=1e-05, model__tol=0.01;, score=-5499.025 total time=   0.0s\n",
      "[CV 3/5] END model__C=1e-05, model__tol=0.01;, score=-5515.882 total time=   0.0s\n",
      "[CV 4/5] END model__C=1e-05, model__tol=0.01;, score=-5528.413 total time=   0.0s\n",
      "[CV 5/5] END model__C=1e-05, model__tol=0.01;, score=-5448.634 total time=   0.0s\n",
      "[CV 1/5] END model__C=0.0001, model__tol=1e-08;, score=-2461.563 total time=   0.0s\n",
      "[CV 2/5] END model__C=0.0001, model__tol=1e-08;, score=-2453.057 total time=   0.0s\n",
      "[CV 3/5] END model__C=0.0001, model__tol=1e-08;, score=-2488.973 total time=   0.0s\n",
      "[CV 4/5] END model__C=0.0001, model__tol=1e-08;, score=-2474.883 total time=   0.0s\n",
      "[CV 5/5] END model__C=0.0001, model__tol=1e-08;, score=-2451.622 total time=   0.0s\n",
      "[CV 1/5] END model__C=0.0001, model__tol=1e-07;, score=-2461.563 total time=   0.0s\n",
      "[CV 2/5] END model__C=0.0001, model__tol=1e-07;, score=-2453.057 total time=   0.0s\n",
      "[CV 3/5] END model__C=0.0001, model__tol=1e-07;, score=-2488.973 total time=   0.0s\n",
      "[CV 4/5] END model__C=0.0001, model__tol=1e-07;, score=-2474.883 total time=   0.0s\n",
      "[CV 5/5] END model__C=0.0001, model__tol=1e-07;, score=-2451.622 total time=   0.0s\n",
      "[CV 1/5] END model__C=0.0001, model__tol=1e-06;, score=-2461.562 total time=   0.0s\n",
      "[CV 2/5] END model__C=0.0001, model__tol=1e-06;, score=-2453.056 total time=   0.0s\n",
      "[CV 3/5] END model__C=0.0001, model__tol=1e-06;, score=-2488.972 total time=   0.0s\n",
      "[CV 4/5] END model__C=0.0001, model__tol=1e-06;, score=-2474.882 total time=   0.0s\n",
      "[CV 5/5] END model__C=0.0001, model__tol=1e-06;, score=-2451.621 total time=   0.0s\n",
      "[CV 1/5] END model__C=0.0001, model__tol=1e-05;, score=-2461.567 total time=   0.0s\n",
      "[CV 2/5] END model__C=0.0001, model__tol=1e-05;, score=-2453.060 total time=   0.0s\n",
      "[CV 3/5] END model__C=0.0001, model__tol=1e-05;, score=-2488.975 total time=   0.0s\n",
      "[CV 4/5] END model__C=0.0001, model__tol=1e-05;, score=-2474.887 total time=   0.0s\n",
      "[CV 5/5] END model__C=0.0001, model__tol=1e-05;, score=-2451.626 total time=   0.0s\n",
      "[CV 1/5] END model__C=0.0001, model__tol=0.0001;, score=-2461.372 total time=   0.0s\n",
      "[CV 2/5] END model__C=0.0001, model__tol=0.0001;, score=-2452.838 total time=   0.0s\n",
      "[CV 3/5] END model__C=0.0001, model__tol=0.0001;, score=-2488.812 total time=   0.0s\n",
      "[CV 4/5] END model__C=0.0001, model__tol=0.0001;, score=-2474.707 total time=   0.0s\n",
      "[CV 5/5] END model__C=0.0001, model__tol=0.0001;, score=-2451.458 total time=   0.0s\n",
      "[CV 1/5] END model__C=0.0001, model__tol=0.001;, score=-2461.372 total time=   0.0s\n",
      "[CV 2/5] END model__C=0.0001, model__tol=0.001;, score=-2452.838 total time=   0.0s\n",
      "[CV 3/5] END model__C=0.0001, model__tol=0.001;, score=-2488.812 total time=   0.0s\n",
      "[CV 4/5] END model__C=0.0001, model__tol=0.001;, score=-2474.707 total time=   0.0s\n"
     ]
    },
    {
     "name": "stdout",
     "output_type": "stream",
     "text": [
      "[CV 5/5] END model__C=0.0001, model__tol=0.001;, score=-2451.458 total time=   0.0s\n",
      "[CV 1/5] END model__C=0.0001, model__tol=0.01;, score=-2465.088 total time=   0.0s\n",
      "[CV 2/5] END model__C=0.0001, model__tol=0.01;, score=-2456.722 total time=   0.0s\n",
      "[CV 3/5] END model__C=0.0001, model__tol=0.01;, score=-2491.846 total time=   0.0s\n",
      "[CV 4/5] END model__C=0.0001, model__tol=0.01;, score=-2479.116 total time=   0.0s\n",
      "[CV 5/5] END model__C=0.0001, model__tol=0.01;, score=-2455.755 total time=   0.0s\n",
      "[CV 1/5] END model__C=0.001, model__tol=1e-08;, score=-2401.133 total time=   0.0s\n",
      "[CV 2/5] END model__C=0.001, model__tol=1e-08;, score=-2392.470 total time=   0.0s\n",
      "[CV 3/5] END model__C=0.001, model__tol=1e-08;, score=-2408.264 total time=   0.0s\n",
      "[CV 4/5] END model__C=0.001, model__tol=1e-08;, score=-2402.874 total time=   0.0s\n",
      "[CV 5/5] END model__C=0.001, model__tol=1e-08;, score=-2403.309 total time=   0.1s\n",
      "[CV 1/5] END model__C=0.001, model__tol=1e-07;, score=-2401.133 total time=   0.0s\n",
      "[CV 2/5] END model__C=0.001, model__tol=1e-07;, score=-2392.470 total time=   0.0s\n",
      "[CV 3/5] END model__C=0.001, model__tol=1e-07;, score=-2408.264 total time=   0.0s\n",
      "[CV 4/5] END model__C=0.001, model__tol=1e-07;, score=-2402.874 total time=   0.0s\n",
      "[CV 5/5] END model__C=0.001, model__tol=1e-07;, score=-2403.309 total time=   0.0s\n",
      "[CV 1/5] END model__C=0.001, model__tol=1e-06;, score=-2401.133 total time=   0.0s\n",
      "[CV 2/5] END model__C=0.001, model__tol=1e-06;, score=-2392.470 total time=   0.0s\n",
      "[CV 3/5] END model__C=0.001, model__tol=1e-06;, score=-2408.263 total time=   0.0s\n",
      "[CV 4/5] END model__C=0.001, model__tol=1e-06;, score=-2402.873 total time=   0.0s\n",
      "[CV 5/5] END model__C=0.001, model__tol=1e-06;, score=-2403.309 total time=   0.0s\n",
      "[CV 1/5] END model__C=0.001, model__tol=1e-05;, score=-2401.136 total time=   0.0s\n",
      "[CV 2/5] END model__C=0.001, model__tol=1e-05;, score=-2392.471 total time=   0.0s\n",
      "[CV 3/5] END model__C=0.001, model__tol=1e-05;, score=-2408.261 total time=   0.0s\n",
      "[CV 4/5] END model__C=0.001, model__tol=1e-05;, score=-2402.875 total time=   0.0s\n",
      "[CV 5/5] END model__C=0.001, model__tol=1e-05;, score=-2403.307 total time=   0.0s\n",
      "[CV 1/5] END model__C=0.001, model__tol=0.0001;, score=-2401.131 total time=   0.0s\n",
      "[CV 2/5] END model__C=0.001, model__tol=0.0001;, score=-2392.522 total time=   0.0s\n",
      "[CV 3/5] END model__C=0.001, model__tol=0.0001;, score=-2408.335 total time=   0.0s\n",
      "[CV 4/5] END model__C=0.001, model__tol=0.0001;, score=-2402.968 total time=   0.0s\n",
      "[CV 5/5] END model__C=0.001, model__tol=0.0001;, score=-2403.365 total time=   0.0s\n",
      "[CV 1/5] END model__C=0.001, model__tol=0.001;, score=-2401.805 total time=   0.0s\n",
      "[CV 2/5] END model__C=0.001, model__tol=0.001;, score=-2392.841 total time=   0.0s\n",
      "[CV 3/5] END model__C=0.001, model__tol=0.001;, score=-2408.901 total time=   0.0s\n",
      "[CV 4/5] END model__C=0.001, model__tol=0.001;, score=-2403.124 total time=   0.0s\n",
      "[CV 5/5] END model__C=0.001, model__tol=0.001;, score=-2403.901 total time=   0.0s\n",
      "[CV 1/5] END model__C=0.001, model__tol=0.01;, score=-2418.405 total time=   0.0s\n",
      "[CV 2/5] END model__C=0.001, model__tol=0.01;, score=-2414.306 total time=   0.0s\n",
      "[CV 3/5] END model__C=0.001, model__tol=0.01;, score=-2429.042 total time=   0.0s\n",
      "[CV 4/5] END model__C=0.001, model__tol=0.01;, score=-2423.133 total time=   0.0s\n",
      "[CV 5/5] END model__C=0.001, model__tol=0.01;, score=-2426.382 total time=   0.0s\n",
      "[CV 1/5] END model__C=0.01, model__tol=1e-08;, score=-2410.060 total time=   0.1s\n",
      "[CV 2/5] END model__C=0.01, model__tol=1e-08;, score=-2398.834 total time=   0.0s\n",
      "[CV 3/5] END model__C=0.01, model__tol=1e-08;, score=-2405.039 total time=   0.1s\n",
      "[CV 4/5] END model__C=0.01, model__tol=1e-08;, score=-2407.067 total time=   0.0s\n",
      "[CV 5/5] END model__C=0.01, model__tol=1e-08;, score=-2404.735 total time=   0.1s\n",
      "[CV 1/5] END model__C=0.01, model__tol=1e-07;, score=-2410.060 total time=   0.0s\n",
      "[CV 2/5] END model__C=0.01, model__tol=1e-07;, score=-2398.834 total time=   0.0s\n",
      "[CV 3/5] END model__C=0.01, model__tol=1e-07;, score=-2405.039 total time=   0.0s\n",
      "[CV 4/5] END model__C=0.01, model__tol=1e-07;, score=-2407.067 total time=   0.0s\n",
      "[CV 5/5] END model__C=0.01, model__tol=1e-07;, score=-2404.735 total time=   0.0s\n",
      "[CV 1/5] END model__C=0.01, model__tol=1e-06;, score=-2410.060 total time=   0.0s\n",
      "[CV 2/5] END model__C=0.01, model__tol=1e-06;, score=-2398.833 total time=   0.0s\n",
      "[CV 3/5] END model__C=0.01, model__tol=1e-06;, score=-2405.039 total time=   0.0s\n",
      "[CV 4/5] END model__C=0.01, model__tol=1e-06;, score=-2407.067 total time=   0.0s\n",
      "[CV 5/5] END model__C=0.01, model__tol=1e-06;, score=-2404.733 total time=   0.0s\n",
      "[CV 1/5] END model__C=0.01, model__tol=1e-05;, score=-2410.059 total time=   0.0s\n",
      "[CV 2/5] END model__C=0.01, model__tol=1e-05;, score=-2398.833 total time=   0.0s\n",
      "[CV 3/5] END model__C=0.01, model__tol=1e-05;, score=-2405.039 total time=   0.0s\n",
      "[CV 4/5] END model__C=0.01, model__tol=1e-05;, score=-2407.068 total time=   0.0s\n",
      "[CV 5/5] END model__C=0.01, model__tol=1e-05;, score=-2404.729 total time=   0.0s\n",
      "[CV 1/5] END model__C=0.01, model__tol=0.0001;, score=-2410.083 total time=   0.0s\n",
      "[CV 2/5] END model__C=0.01, model__tol=0.0001;, score=-2398.806 total time=   0.0s\n",
      "[CV 3/5] END model__C=0.01, model__tol=0.0001;, score=-2405.020 total time=   0.0s\n",
      "[CV 4/5] END model__C=0.01, model__tol=0.0001;, score=-2407.052 total time=   0.0s\n",
      "[CV 5/5] END model__C=0.01, model__tol=0.0001;, score=-2404.729 total time=   0.0s\n",
      "[CV 1/5] END model__C=0.01, model__tol=0.001;, score=-2409.995 total time=   0.0s\n",
      "[CV 2/5] END model__C=0.01, model__tol=0.001;, score=-2398.876 total time=   0.0s\n",
      "[CV 3/5] END model__C=0.01, model__tol=0.001;, score=-2404.900 total time=   0.0s\n",
      "[CV 4/5] END model__C=0.01, model__tol=0.001;, score=-2406.971 total time=   0.0s\n",
      "[CV 5/5] END model__C=0.01, model__tol=0.001;, score=-2404.729 total time=   0.0s\n",
      "[CV 1/5] END model__C=0.01, model__tol=0.01;, score=-2428.927 total time=   0.0s\n",
      "[CV 2/5] END model__C=0.01, model__tol=0.01;, score=-2424.875 total time=   0.0s\n",
      "[CV 3/5] END model__C=0.01, model__tol=0.01;, score=-2434.785 total time=   0.0s\n",
      "[CV 4/5] END model__C=0.01, model__tol=0.01;, score=-2432.916 total time=   0.0s\n",
      "[CV 5/5] END model__C=0.01, model__tol=0.01;, score=-2438.295 total time=   0.0s\n",
      "[CV 1/5] END model__C=0.1, model__tol=1e-08;, score=-2413.311 total time=   0.0s\n",
      "[CV 2/5] END model__C=0.1, model__tol=1e-08;, score=-2400.788 total time=   0.1s\n",
      "[CV 3/5] END model__C=0.1, model__tol=1e-08;, score=-2405.437 total time=   0.1s\n",
      "[CV 4/5] END model__C=0.1, model__tol=1e-08;, score=-2409.348 total time=   0.0s\n",
      "[CV 5/5] END model__C=0.1, model__tol=1e-08;, score=-2406.200 total time=   0.1s\n",
      "[CV 1/5] END model__C=0.1, model__tol=1e-07;, score=-2413.311 total time=   0.0s\n",
      "[CV 2/5] END model__C=0.1, model__tol=1e-07;, score=-2400.788 total time=   0.0s\n",
      "[CV 3/5] END model__C=0.1, model__tol=1e-07;, score=-2405.437 total time=   0.1s\n",
      "[CV 4/5] END model__C=0.1, model__tol=1e-07;, score=-2409.348 total time=   0.0s\n",
      "[CV 5/5] END model__C=0.1, model__tol=1e-07;, score=-2406.200 total time=   0.0s\n",
      "[CV 1/5] END model__C=0.1, model__tol=1e-06;, score=-2413.313 total time=   0.0s\n",
      "[CV 2/5] END model__C=0.1, model__tol=1e-06;, score=-2400.787 total time=   0.0s\n",
      "[CV 3/5] END model__C=0.1, model__tol=1e-06;, score=-2405.437 total time=   0.0s\n",
      "[CV 4/5] END model__C=0.1, model__tol=1e-06;, score=-2409.354 total time=   0.0s\n",
      "[CV 5/5] END model__C=0.1, model__tol=1e-06;, score=-2406.203 total time=   0.0s\n",
      "[CV 1/5] END model__C=0.1, model__tol=1e-05;, score=-2413.313 total time=   0.0s\n",
      "[CV 2/5] END model__C=0.1, model__tol=1e-05;, score=-2400.787 total time=   0.0s\n",
      "[CV 3/5] END model__C=0.1, model__tol=1e-05;, score=-2405.432 total time=   0.0s\n",
      "[CV 4/5] END model__C=0.1, model__tol=1e-05;, score=-2409.354 total time=   0.0s\n",
      "[CV 5/5] END model__C=0.1, model__tol=1e-05;, score=-2406.203 total time=   0.0s\n",
      "[CV 1/5] END model__C=0.1, model__tol=0.0001;, score=-2413.314 total time=   0.0s\n",
      "[CV 2/5] END model__C=0.1, model__tol=0.0001;, score=-2400.848 total time=   0.0s\n",
      "[CV 3/5] END model__C=0.1, model__tol=0.0001;, score=-2405.432 total time=   0.0s\n",
      "[CV 4/5] END model__C=0.1, model__tol=0.0001;, score=-2409.380 total time=   0.0s\n"
     ]
    },
    {
     "name": "stdout",
     "output_type": "stream",
     "text": [
      "[CV 5/5] END model__C=0.1, model__tol=0.0001;, score=-2406.289 total time=   0.0s\n",
      "[CV 1/5] END model__C=0.1, model__tol=0.001;, score=-2413.203 total time=   0.0s\n",
      "[CV 2/5] END model__C=0.1, model__tol=0.001;, score=-2400.974 total time=   0.0s\n",
      "[CV 3/5] END model__C=0.1, model__tol=0.001;, score=-2405.236 total time=   0.0s\n",
      "[CV 4/5] END model__C=0.1, model__tol=0.001;, score=-2409.504 total time=   0.0s\n",
      "[CV 5/5] END model__C=0.1, model__tol=0.001;, score=-2406.347 total time=   0.0s\n",
      "[CV 1/5] END .model__C=0.1, model__tol=0.01;, score=-2430.394 total time=   0.0s\n",
      "[CV 2/5] END .model__C=0.1, model__tol=0.01;, score=-2426.320 total time=   0.0s\n",
      "[CV 3/5] END .model__C=0.1, model__tol=0.01;, score=-2435.653 total time=   0.0s\n",
      "[CV 4/5] END .model__C=0.1, model__tol=0.01;, score=-2434.252 total time=   0.0s\n",
      "[CV 5/5] END .model__C=0.1, model__tol=0.01;, score=-2439.869 total time=   0.0s\n",
      "[CV 1/5] END model__C=1.0, model__tol=1e-08;, score=-2413.965 total time=   0.0s\n",
      "[CV 2/5] END model__C=1.0, model__tol=1e-08;, score=-2400.888 total time=   0.1s\n",
      "[CV 3/5] END model__C=1.0, model__tol=1e-08;, score=-2405.637 total time=   0.1s\n",
      "[CV 4/5] END model__C=1.0, model__tol=1e-08;, score=-2409.475 total time=   0.1s\n",
      "[CV 5/5] END model__C=1.0, model__tol=1e-08;, score=-2406.253 total time=   0.0s\n",
      "[CV 1/5] END model__C=1.0, model__tol=1e-07;, score=-2413.965 total time=   0.0s\n",
      "[CV 2/5] END model__C=1.0, model__tol=1e-07;, score=-2400.888 total time=   0.1s\n",
      "[CV 3/5] END model__C=1.0, model__tol=1e-07;, score=-2405.637 total time=   0.1s\n",
      "[CV 4/5] END model__C=1.0, model__tol=1e-07;, score=-2409.475 total time=   0.0s\n",
      "[CV 5/5] END model__C=1.0, model__tol=1e-07;, score=-2406.253 total time=   0.0s\n",
      "[CV 1/5] END model__C=1.0, model__tol=1e-06;, score=-2413.965 total time=   0.0s\n",
      "[CV 2/5] END model__C=1.0, model__tol=1e-06;, score=-2400.888 total time=   0.1s\n",
      "[CV 3/5] END model__C=1.0, model__tol=1e-06;, score=-2405.637 total time=   0.0s\n",
      "[CV 4/5] END model__C=1.0, model__tol=1e-06;, score=-2409.475 total time=   0.1s\n",
      "[CV 5/5] END model__C=1.0, model__tol=1e-06;, score=-2406.253 total time=   0.0s\n",
      "[CV 1/5] END model__C=1.0, model__tol=1e-05;, score=-2413.965 total time=   0.0s\n",
      "[CV 2/5] END model__C=1.0, model__tol=1e-05;, score=-2400.913 total time=   0.0s\n",
      "[CV 3/5] END model__C=1.0, model__tol=1e-05;, score=-2405.637 total time=   0.0s\n",
      "[CV 4/5] END model__C=1.0, model__tol=1e-05;, score=-2409.475 total time=   0.0s\n",
      "[CV 5/5] END model__C=1.0, model__tol=1e-05;, score=-2406.253 total time=   0.0s\n",
      "[CV 1/5] END model__C=1.0, model__tol=0.0001;, score=-2413.965 total time=   0.0s\n",
      "[CV 2/5] END model__C=1.0, model__tol=0.0001;, score=-2400.846 total time=   0.0s\n",
      "[CV 3/5] END model__C=1.0, model__tol=0.0001;, score=-2405.642 total time=   0.0s\n",
      "[CV 4/5] END model__C=1.0, model__tol=0.0001;, score=-2409.511 total time=   0.0s\n",
      "[CV 5/5] END model__C=1.0, model__tol=0.0001;, score=-2406.249 total time=   0.0s\n",
      "[CV 1/5] END model__C=1.0, model__tol=0.001;, score=-2413.605 total time=   0.0s\n",
      "[CV 2/5] END model__C=1.0, model__tol=0.001;, score=-2401.253 total time=   0.0s\n",
      "[CV 3/5] END model__C=1.0, model__tol=0.001;, score=-2405.380 total time=   0.0s\n",
      "[CV 4/5] END model__C=1.0, model__tol=0.001;, score=-2409.858 total time=   0.0s\n",
      "[CV 5/5] END model__C=1.0, model__tol=0.001;, score=-2406.615 total time=   0.0s\n",
      "[CV 1/5] END .model__C=1.0, model__tol=0.01;, score=-2430.546 total time=   0.0s\n",
      "[CV 2/5] END .model__C=1.0, model__tol=0.01;, score=-2426.469 total time=   0.0s\n",
      "[CV 3/5] END .model__C=1.0, model__tol=0.01;, score=-2435.743 total time=   0.0s\n",
      "[CV 4/5] END .model__C=1.0, model__tol=0.01;, score=-2434.388 total time=   0.0s\n",
      "[CV 5/5] END .model__C=1.0, model__tol=0.01;, score=-2440.030 total time=   0.0s\n",
      "[CV 1/5] END model__C=10.0, model__tol=1e-08;, score=-2414.063 total time=   0.0s\n",
      "[CV 2/5] END model__C=10.0, model__tol=1e-08;, score=-2400.875 total time=   0.1s\n",
      "[CV 3/5] END model__C=10.0, model__tol=1e-08;, score=-2405.673 total time=   0.1s\n",
      "[CV 4/5] END model__C=10.0, model__tol=1e-08;, score=-2409.446 total time=   0.1s\n",
      "[CV 5/5] END model__C=10.0, model__tol=1e-08;, score=-2406.219 total time=   0.0s\n",
      "[CV 1/5] END model__C=10.0, model__tol=1e-07;, score=-2414.063 total time=   0.0s\n",
      "[CV 2/5] END model__C=10.0, model__tol=1e-07;, score=-2400.875 total time=   0.1s\n",
      "[CV 3/5] END model__C=10.0, model__tol=1e-07;, score=-2405.673 total time=   0.0s\n",
      "[CV 4/5] END model__C=10.0, model__tol=1e-07;, score=-2409.446 total time=   0.1s\n",
      "[CV 5/5] END model__C=10.0, model__tol=1e-07;, score=-2406.219 total time=   0.0s\n",
      "[CV 1/5] END model__C=10.0, model__tol=1e-06;, score=-2414.062 total time=   0.0s\n",
      "[CV 2/5] END model__C=10.0, model__tol=1e-06;, score=-2400.894 total time=   0.0s\n",
      "[CV 3/5] END model__C=10.0, model__tol=1e-06;, score=-2405.673 total time=   0.0s\n",
      "[CV 4/5] END model__C=10.0, model__tol=1e-06;, score=-2409.446 total time=   0.1s\n",
      "[CV 5/5] END model__C=10.0, model__tol=1e-06;, score=-2406.219 total time=   0.1s\n",
      "[CV 1/5] END model__C=10.0, model__tol=1e-05;, score=-2414.062 total time=   0.0s\n",
      "[CV 2/5] END model__C=10.0, model__tol=1e-05;, score=-2400.894 total time=   0.0s\n",
      "[CV 3/5] END model__C=10.0, model__tol=1e-05;, score=-2405.673 total time=   0.0s\n",
      "[CV 4/5] END model__C=10.0, model__tol=1e-05;, score=-2409.442 total time=   0.0s\n",
      "[CV 5/5] END model__C=10.0, model__tol=1e-05;, score=-2406.219 total time=   0.0s\n",
      "[CV 1/5] END model__C=10.0, model__tol=0.0001;, score=-2414.062 total time=   0.0s\n",
      "[CV 2/5] END model__C=10.0, model__tol=0.0001;, score=-2400.884 total time=   0.0s\n",
      "[CV 3/5] END model__C=10.0, model__tol=0.0001;, score=-2405.591 total time=   0.0s\n",
      "[CV 4/5] END model__C=10.0, model__tol=0.0001;, score=-2409.508 total time=   0.0s\n",
      "[CV 5/5] END model__C=10.0, model__tol=0.0001;, score=-2406.312 total time=   0.0s\n",
      "[CV 1/5] END model__C=10.0, model__tol=0.001;, score=-2413.646 total time=   0.0s\n",
      "[CV 2/5] END model__C=10.0, model__tol=0.001;, score=-2401.284 total time=   0.0s\n",
      "[CV 3/5] END model__C=10.0, model__tol=0.001;, score=-2405.396 total time=   0.0s\n",
      "[CV 4/5] END model__C=10.0, model__tol=0.001;, score=-2409.894 total time=   0.0s\n",
      "[CV 5/5] END model__C=10.0, model__tol=0.001;, score=-2406.642 total time=   0.0s\n",
      "[CV 1/5] END model__C=10.0, model__tol=0.01;, score=-2430.561 total time=   0.0s\n",
      "[CV 2/5] END model__C=10.0, model__tol=0.01;, score=-2426.483 total time=   0.0s\n",
      "[CV 3/5] END model__C=10.0, model__tol=0.01;, score=-2435.752 total time=   0.0s\n",
      "[CV 4/5] END model__C=10.0, model__tol=0.01;, score=-2434.402 total time=   0.0s\n",
      "[CV 5/5] END model__C=10.0, model__tol=0.01;, score=-2440.046 total time=   0.0s\n",
      "[CV 1/5] END model__C=100.0, model__tol=1e-08;, score=-2414.073 total time=   0.0s\n",
      "[CV 2/5] END model__C=100.0, model__tol=1e-08;, score=-2400.873 total time=   0.1s\n",
      "[CV 3/5] END model__C=100.0, model__tol=1e-08;, score=-2405.677 total time=   0.0s\n",
      "[CV 4/5] END model__C=100.0, model__tol=1e-08;, score=-2409.442 total time=   0.1s\n",
      "[CV 5/5] END model__C=100.0, model__tol=1e-08;, score=-2406.214 total time=   0.0s\n",
      "[CV 1/5] END model__C=100.0, model__tol=1e-07;, score=-2414.073 total time=   0.0s\n",
      "[CV 2/5] END model__C=100.0, model__tol=1e-07;, score=-2400.873 total time=   0.1s\n",
      "[CV 3/5] END model__C=100.0, model__tol=1e-07;, score=-2405.677 total time=   0.0s\n",
      "[CV 4/5] END model__C=100.0, model__tol=1e-07;, score=-2409.442 total time=   0.0s\n",
      "[CV 5/5] END model__C=100.0, model__tol=1e-07;, score=-2406.214 total time=   0.0s\n",
      "[CV 1/5] END model__C=100.0, model__tol=1e-06;, score=-2414.073 total time=   0.0s\n",
      "[CV 2/5] END model__C=100.0, model__tol=1e-06;, score=-2400.873 total time=   0.0s\n",
      "[CV 3/5] END model__C=100.0, model__tol=1e-06;, score=-2405.677 total time=   0.0s\n",
      "[CV 4/5] END model__C=100.0, model__tol=1e-06;, score=-2409.442 total time=   0.1s\n",
      "[CV 5/5] END model__C=100.0, model__tol=1e-06;, score=-2406.214 total time=   0.0s\n",
      "[CV 1/5] END model__C=100.0, model__tol=1e-05;, score=-2414.068 total time=   0.0s\n",
      "[CV 2/5] END model__C=100.0, model__tol=1e-05;, score=-2400.892 total time=   0.0s\n",
      "[CV 3/5] END model__C=100.0, model__tol=1e-05;, score=-2405.677 total time=   0.0s\n",
      "[CV 4/5] END model__C=100.0, model__tol=1e-05;, score=-2409.441 total time=   0.0s\n",
      "[CV 5/5] END model__C=100.0, model__tol=1e-05;, score=-2406.214 total time=   0.0s\n"
     ]
    },
    {
     "name": "stdout",
     "output_type": "stream",
     "text": [
      "[CV 1/5] END model__C=100.0, model__tol=0.0001;, score=-2414.068 total time=   0.0s\n",
      "[CV 2/5] END model__C=100.0, model__tol=0.0001;, score=-2400.868 total time=   0.0s\n",
      "[CV 3/5] END model__C=100.0, model__tol=0.0001;, score=-2405.593 total time=   0.0s\n",
      "[CV 4/5] END model__C=100.0, model__tol=0.0001;, score=-2409.522 total time=   0.0s\n",
      "[CV 5/5] END model__C=100.0, model__tol=0.0001;, score=-2406.305 total time=   0.0s\n",
      "[CV 1/5] END model__C=100.0, model__tol=0.001;, score=-2413.650 total time=   0.0s\n",
      "[CV 2/5] END model__C=100.0, model__tol=0.001;, score=-2401.287 total time=   0.0s\n",
      "[CV 3/5] END model__C=100.0, model__tol=0.001;, score=-2405.397 total time=   0.0s\n",
      "[CV 4/5] END model__C=100.0, model__tol=0.001;, score=-2409.898 total time=   0.0s\n",
      "[CV 5/5] END model__C=100.0, model__tol=0.001;, score=-2406.645 total time=   0.0s\n",
      "[CV 1/5] END model__C=100.0, model__tol=0.01;, score=-2430.563 total time=   0.0s\n",
      "[CV 2/5] END model__C=100.0, model__tol=0.01;, score=-2426.485 total time=   0.0s\n",
      "[CV 3/5] END model__C=100.0, model__tol=0.01;, score=-2435.752 total time=   0.0s\n",
      "[CV 4/5] END model__C=100.0, model__tol=0.01;, score=-2434.403 total time=   0.0s\n",
      "[CV 5/5] END model__C=100.0, model__tol=0.01;, score=-2440.048 total time=   0.0s\n",
      "[CV 1/5] END model__C=1000.0, model__tol=1e-08;, score=-2414.074 total time=   0.0s\n",
      "[CV 2/5] END model__C=1000.0, model__tol=1e-08;, score=-2400.873 total time=   0.1s\n",
      "[CV 3/5] END model__C=1000.0, model__tol=1e-08;, score=-2405.677 total time=   0.0s\n",
      "[CV 4/5] END model__C=1000.0, model__tol=1e-08;, score=-2409.441 total time=   0.1s\n",
      "[CV 5/5] END model__C=1000.0, model__tol=1e-08;, score=-2406.214 total time=   0.0s\n",
      "[CV 1/5] END model__C=1000.0, model__tol=1e-07;, score=-2414.074 total time=   0.0s\n",
      "[CV 2/5] END model__C=1000.0, model__tol=1e-07;, score=-2400.873 total time=   0.1s\n",
      "[CV 3/5] END model__C=1000.0, model__tol=1e-07;, score=-2405.677 total time=   0.0s\n",
      "[CV 4/5] END model__C=1000.0, model__tol=1e-07;, score=-2409.441 total time=   0.0s\n",
      "[CV 5/5] END model__C=1000.0, model__tol=1e-07;, score=-2406.214 total time=   0.0s\n",
      "[CV 1/5] END model__C=1000.0, model__tol=1e-06;, score=-2414.074 total time=   0.0s\n",
      "[CV 2/5] END model__C=1000.0, model__tol=1e-06;, score=-2400.873 total time=   0.1s\n",
      "[CV 3/5] END model__C=1000.0, model__tol=1e-06;, score=-2405.677 total time=   0.0s\n",
      "[CV 4/5] END model__C=1000.0, model__tol=1e-06;, score=-2409.441 total time=   0.1s\n",
      "[CV 5/5] END model__C=1000.0, model__tol=1e-06;, score=-2406.214 total time=   0.0s\n",
      "[CV 1/5] END model__C=1000.0, model__tol=1e-05;, score=-2414.074 total time=   0.0s\n",
      "[CV 2/5] END model__C=1000.0, model__tol=1e-05;, score=-2400.891 total time=   0.0s\n",
      "[CV 3/5] END model__C=1000.0, model__tol=1e-05;, score=-2405.677 total time=   0.0s\n",
      "[CV 4/5] END model__C=1000.0, model__tol=1e-05;, score=-2409.441 total time=   0.0s\n",
      "[CV 5/5] END model__C=1000.0, model__tol=1e-05;, score=-2406.214 total time=   0.0s\n",
      "[CV 1/5] END model__C=1000.0, model__tol=0.0001;, score=-2414.074 total time=   0.0s\n",
      "[CV 2/5] END model__C=1000.0, model__tol=0.0001;, score=-2400.866 total time=   0.0s\n",
      "[CV 3/5] END model__C=1000.0, model__tol=0.0001;, score=-2405.593 total time=   0.0s\n",
      "[CV 4/5] END model__C=1000.0, model__tol=0.0001;, score=-2409.524 total time=   0.0s\n",
      "[CV 5/5] END model__C=1000.0, model__tol=0.0001;, score=-2406.304 total time=   0.0s\n",
      "[CV 1/5] END model__C=1000.0, model__tol=0.001;, score=-2413.651 total time=   0.0s\n",
      "[CV 2/5] END model__C=1000.0, model__tol=0.001;, score=-2401.287 total time=   0.0s\n",
      "[CV 3/5] END model__C=1000.0, model__tol=0.001;, score=-2405.397 total time=   0.0s\n",
      "[CV 4/5] END model__C=1000.0, model__tol=0.001;, score=-2409.899 total time=   0.0s\n",
      "[CV 5/5] END model__C=1000.0, model__tol=0.001;, score=-2406.645 total time=   0.0s\n",
      "[CV 1/5] END model__C=1000.0, model__tol=0.01;, score=-2430.563 total time=   0.0s\n",
      "[CV 2/5] END model__C=1000.0, model__tol=0.01;, score=-2426.485 total time=   0.0s\n",
      "[CV 3/5] END model__C=1000.0, model__tol=0.01;, score=-2435.753 total time=   0.0s\n",
      "[CV 4/5] END model__C=1000.0, model__tol=0.01;, score=-2434.403 total time=   0.0s\n",
      "[CV 5/5] END model__C=1000.0, model__tol=0.01;, score=-2440.048 total time=   0.0s\n",
      "[CV 1/5] END model__C=10000.0, model__tol=1e-08;, score=-2414.074 total time=   0.0s\n",
      "[CV 2/5] END model__C=10000.0, model__tol=1e-08;, score=-2400.873 total time=   0.1s\n",
      "[CV 3/5] END model__C=10000.0, model__tol=1e-08;, score=-2405.677 total time=   0.0s\n",
      "[CV 4/5] END model__C=10000.0, model__tol=1e-08;, score=-2409.441 total time=   0.1s\n",
      "[CV 5/5] END model__C=10000.0, model__tol=1e-08;, score=-2406.214 total time=   0.0s\n",
      "[CV 1/5] END model__C=10000.0, model__tol=1e-07;, score=-2414.074 total time=   0.0s\n",
      "[CV 2/5] END model__C=10000.0, model__tol=1e-07;, score=-2400.873 total time=   0.1s\n",
      "[CV 3/5] END model__C=10000.0, model__tol=1e-07;, score=-2405.677 total time=   0.0s\n",
      "[CV 4/5] END model__C=10000.0, model__tol=1e-07;, score=-2409.441 total time=   0.0s\n",
      "[CV 5/5] END model__C=10000.0, model__tol=1e-07;, score=-2406.214 total time=   0.0s\n",
      "[CV 1/5] END model__C=10000.0, model__tol=1e-06;, score=-2414.075 total time=   0.0s\n",
      "[CV 2/5] END model__C=10000.0, model__tol=1e-06;, score=-2400.873 total time=   0.1s\n",
      "[CV 3/5] END model__C=10000.0, model__tol=1e-06;, score=-2405.677 total time=   0.0s\n",
      "[CV 4/5] END model__C=10000.0, model__tol=1e-06;, score=-2409.441 total time=   0.1s\n",
      "[CV 5/5] END model__C=10000.0, model__tol=1e-06;, score=-2406.214 total time=   0.0s\n",
      "[CV 1/5] END model__C=10000.0, model__tol=1e-05;, score=-2414.075 total time=   0.0s\n",
      "[CV 2/5] END model__C=10000.0, model__tol=1e-05;, score=-2400.890 total time=   0.0s\n",
      "[CV 3/5] END model__C=10000.0, model__tol=1e-05;, score=-2405.677 total time=   0.0s\n",
      "[CV 4/5] END model__C=10000.0, model__tol=1e-05;, score=-2409.441 total time=   0.0s\n",
      "[CV 5/5] END model__C=10000.0, model__tol=1e-05;, score=-2406.214 total time=   0.0s\n",
      "[CV 1/5] END model__C=10000.0, model__tol=0.0001;, score=-2414.075 total time=   0.0s\n",
      "[CV 2/5] END model__C=10000.0, model__tol=0.0001;, score=-2400.866 total time=   0.0s\n",
      "[CV 3/5] END model__C=10000.0, model__tol=0.0001;, score=-2405.593 total time=   0.0s\n",
      "[CV 4/5] END model__C=10000.0, model__tol=0.0001;, score=-2409.524 total time=   0.0s\n",
      "[CV 5/5] END model__C=10000.0, model__tol=0.0001;, score=-2406.304 total time=   0.0s\n",
      "[CV 1/5] END model__C=10000.0, model__tol=0.001;, score=-2413.651 total time=   0.0s\n",
      "[CV 2/5] END model__C=10000.0, model__tol=0.001;, score=-2401.287 total time=   0.0s\n",
      "[CV 3/5] END model__C=10000.0, model__tol=0.001;, score=-2405.397 total time=   0.0s\n",
      "[CV 4/5] END model__C=10000.0, model__tol=0.001;, score=-2409.899 total time=   0.0s\n",
      "[CV 5/5] END model__C=10000.0, model__tol=0.001;, score=-2406.645 total time=   0.0s\n",
      "[CV 1/5] END model__C=10000.0, model__tol=0.01;, score=-2430.563 total time=   0.0s\n",
      "[CV 2/5] END model__C=10000.0, model__tol=0.01;, score=-2426.485 total time=   0.0s\n",
      "[CV 3/5] END model__C=10000.0, model__tol=0.01;, score=-2435.753 total time=   0.0s\n",
      "[CV 4/5] END model__C=10000.0, model__tol=0.01;, score=-2434.403 total time=   0.0s\n",
      "[CV 5/5] END model__C=10000.0, model__tol=0.01;, score=-2440.048 total time=   0.0s\n",
      "[CV 1/5] END model__C=100000.0, model__tol=1e-08;, score=-2414.074 total time=   0.0s\n",
      "[CV 2/5] END model__C=100000.0, model__tol=1e-08;, score=-2400.873 total time=   0.1s\n",
      "[CV 3/5] END model__C=100000.0, model__tol=1e-08;, score=-2405.677 total time=   0.0s\n",
      "[CV 4/5] END model__C=100000.0, model__tol=1e-08;, score=-2409.441 total time=   0.1s\n",
      "[CV 5/5] END model__C=100000.0, model__tol=1e-08;, score=-2406.214 total time=   0.0s\n",
      "[CV 1/5] END model__C=100000.0, model__tol=1e-07;, score=-2414.074 total time=   0.0s\n",
      "[CV 2/5] END model__C=100000.0, model__tol=1e-07;, score=-2400.873 total time=   0.1s\n",
      "[CV 3/5] END model__C=100000.0, model__tol=1e-07;, score=-2405.677 total time=   0.0s\n",
      "[CV 4/5] END model__C=100000.0, model__tol=1e-07;, score=-2409.441 total time=   0.0s\n",
      "[CV 5/5] END model__C=100000.0, model__tol=1e-07;, score=-2406.214 total time=   0.0s\n",
      "[CV 1/5] END model__C=100000.0, model__tol=1e-06;, score=-2414.074 total time=   0.0s\n",
      "[CV 2/5] END model__C=100000.0, model__tol=1e-06;, score=-2400.873 total time=   0.1s\n",
      "[CV 3/5] END model__C=100000.0, model__tol=1e-06;, score=-2405.677 total time=   0.0s\n",
      "[CV 4/5] END model__C=100000.0, model__tol=1e-06;, score=-2409.441 total time=   0.1s\n"
     ]
    },
    {
     "name": "stdout",
     "output_type": "stream",
     "text": [
      "[CV 5/5] END model__C=100000.0, model__tol=1e-06;, score=-2406.214 total time=   0.0s\n",
      "[CV 1/5] END model__C=100000.0, model__tol=1e-05;, score=-2414.075 total time=   0.0s\n",
      "[CV 2/5] END model__C=100000.0, model__tol=1e-05;, score=-2400.891 total time=   0.0s\n",
      "[CV 3/5] END model__C=100000.0, model__tol=1e-05;, score=-2405.677 total time=   0.0s\n",
      "[CV 4/5] END model__C=100000.0, model__tol=1e-05;, score=-2409.440 total time=   0.0s\n",
      "[CV 5/5] END model__C=100000.0, model__tol=1e-05;, score=-2406.214 total time=   0.0s\n",
      "[CV 1/5] END model__C=100000.0, model__tol=0.0001;, score=-2414.075 total time=   0.0s\n",
      "[CV 2/5] END model__C=100000.0, model__tol=0.0001;, score=-2400.866 total time=   0.0s\n",
      "[CV 3/5] END model__C=100000.0, model__tol=0.0001;, score=-2405.593 total time=   0.0s\n",
      "[CV 4/5] END model__C=100000.0, model__tol=0.0001;, score=-2409.524 total time=   0.0s\n",
      "[CV 5/5] END model__C=100000.0, model__tol=0.0001;, score=-2406.304 total time=   0.0s\n",
      "[CV 1/5] END model__C=100000.0, model__tol=0.001;, score=-2413.651 total time=   0.0s\n",
      "[CV 2/5] END model__C=100000.0, model__tol=0.001;, score=-2401.287 total time=   0.0s\n",
      "[CV 3/5] END model__C=100000.0, model__tol=0.001;, score=-2405.397 total time=   0.0s\n",
      "[CV 4/5] END model__C=100000.0, model__tol=0.001;, score=-2409.899 total time=   0.0s\n",
      "[CV 5/5] END model__C=100000.0, model__tol=0.001;, score=-2406.646 total time=   0.0s\n",
      "[CV 1/5] END model__C=100000.0, model__tol=0.01;, score=-2430.563 total time=   0.0s\n",
      "[CV 2/5] END model__C=100000.0, model__tol=0.01;, score=-2426.485 total time=   0.0s\n",
      "[CV 3/5] END model__C=100000.0, model__tol=0.01;, score=-2435.753 total time=   0.0s\n",
      "[CV 4/5] END model__C=100000.0, model__tol=0.01;, score=-2434.403 total time=   0.0s\n",
      "[CV 5/5] END model__C=100000.0, model__tol=0.01;, score=-2440.048 total time=   0.0s\n",
      "[CV 1/5] END model__C=1000000.0, model__tol=1e-08;, score=-2414.074 total time=   0.0s\n",
      "[CV 2/5] END model__C=1000000.0, model__tol=1e-08;, score=-2400.873 total time=   0.1s\n",
      "[CV 3/5] END model__C=1000000.0, model__tol=1e-08;, score=-2405.677 total time=   0.0s\n",
      "[CV 4/5] END model__C=1000000.0, model__tol=1e-08;, score=-2409.441 total time=   0.1s\n",
      "[CV 5/5] END model__C=1000000.0, model__tol=1e-08;, score=-2406.214 total time=   0.0s\n",
      "[CV 1/5] END model__C=1000000.0, model__tol=1e-07;, score=-2414.074 total time=   0.0s\n",
      "[CV 2/5] END model__C=1000000.0, model__tol=1e-07;, score=-2400.873 total time=   0.1s\n",
      "[CV 3/5] END model__C=1000000.0, model__tol=1e-07;, score=-2405.677 total time=   0.0s\n",
      "[CV 4/5] END model__C=1000000.0, model__tol=1e-07;, score=-2409.441 total time=   0.0s\n",
      "[CV 5/5] END model__C=1000000.0, model__tol=1e-07;, score=-2406.214 total time=   0.0s\n",
      "[CV 1/5] END model__C=1000000.0, model__tol=1e-06;, score=-2414.074 total time=   0.0s\n",
      "[CV 2/5] END model__C=1000000.0, model__tol=1e-06;, score=-2400.872 total time=   0.1s\n",
      "[CV 3/5] END model__C=1000000.0, model__tol=1e-06;, score=-2405.677 total time=   0.0s\n",
      "[CV 4/5] END model__C=1000000.0, model__tol=1e-06;, score=-2409.441 total time=   0.0s\n",
      "[CV 5/5] END model__C=1000000.0, model__tol=1e-06;, score=-2406.214 total time=   0.1s\n",
      "[CV 1/5] END model__C=1000000.0, model__tol=1e-05;, score=-2414.076 total time=   0.0s\n",
      "[CV 2/5] END model__C=1000000.0, model__tol=1e-05;, score=-2400.891 total time=   0.0s\n",
      "[CV 3/5] END model__C=1000000.0, model__tol=1e-05;, score=-2405.677 total time=   0.0s\n",
      "[CV 4/5] END model__C=1000000.0, model__tol=1e-05;, score=-2409.441 total time=   0.0s\n",
      "[CV 5/5] END model__C=1000000.0, model__tol=1e-05;, score=-2406.214 total time=   0.0s\n",
      "[CV 1/5] END model__C=1000000.0, model__tol=0.0001;, score=-2414.076 total time=   0.0s\n",
      "[CV 2/5] END model__C=1000000.0, model__tol=0.0001;, score=-2400.866 total time=   0.0s\n",
      "[CV 3/5] END model__C=1000000.0, model__tol=0.0001;, score=-2405.593 total time=   0.0s\n",
      "[CV 4/5] END model__C=1000000.0, model__tol=0.0001;, score=-2409.524 total time=   0.0s\n",
      "[CV 5/5] END model__C=1000000.0, model__tol=0.0001;, score=-2406.304 total time=   0.0s\n",
      "[CV 1/5] END model__C=1000000.0, model__tol=0.001;, score=-2413.651 total time=   0.0s\n",
      "[CV 2/5] END model__C=1000000.0, model__tol=0.001;, score=-2401.287 total time=   0.0s\n",
      "[CV 3/5] END model__C=1000000.0, model__tol=0.001;, score=-2405.397 total time=   0.0s\n",
      "[CV 4/5] END model__C=1000000.0, model__tol=0.001;, score=-2409.899 total time=   0.0s\n",
      "[CV 5/5] END model__C=1000000.0, model__tol=0.001;, score=-2406.646 total time=   0.0s\n",
      "[CV 1/5] END model__C=1000000.0, model__tol=0.01;, score=-2430.563 total time=   0.0s\n",
      "[CV 2/5] END model__C=1000000.0, model__tol=0.01;, score=-2426.485 total time=   0.0s\n",
      "[CV 3/5] END model__C=1000000.0, model__tol=0.01;, score=-2435.753 total time=   0.0s\n",
      "[CV 4/5] END model__C=1000000.0, model__tol=0.01;, score=-2434.403 total time=   0.0s\n",
      "[CV 5/5] END model__C=1000000.0, model__tol=0.01;, score=-2440.048 total time=   0.0s\n"
     ]
    },
    {
     "data": {
      "text/plain": [
       "GridSearchCV(cv=5,\n",
       "             estimator=Pipeline(steps=[('scale',\n",
       "                                        ColumnTransformer(remainder='passthrough',\n",
       "                                                          transformers=[('scale',\n",
       "                                                                         StandardScaler(),\n",
       "                                                                         ['year',\n",
       "                                                                          'mileage',\n",
       "                                                                          'tax',\n",
       "                                                                          'mpg',\n",
       "                                                                          'engineSize',\n",
       "                                                                          'avgModelPrice'])])),\n",
       "                                       ('model',\n",
       "                                        LinearSVR(dual=False,\n",
       "                                                  loss='squared_epsilon_insensitive'))]),\n",
       "             param_grid={'model__C': array([1.e-06, 1.e-05, 1.e-04, 1.e-03, 1.e-02, 1.e-01, 1.e+00, 1.e+01,\n",
       "       1.e+02, 1.e+03, 1.e+04, 1.e+05, 1.e+06]),\n",
       "                         'model__tol': array([1.e-08, 1.e-07, 1.e-06, 1.e-05, 1.e-04, 1.e-03, 1.e-02])},\n",
       "             scoring='neg_mean_absolute_error', verbose=3)"
      ]
     },
     "execution_count": 10,
     "metadata": {},
     "output_type": "execute_result"
    }
   ],
   "source": [
    "svrSearch.fit(X_train, y_train)"
   ]
  },
  {
   "cell_type": "code",
   "execution_count": 11,
   "id": "7c112b57",
   "metadata": {
    "scrolled": true
   },
   "outputs": [
    {
     "data": {
      "text/plain": [
       "{'model__C': 0.001, 'model__tol': 1e-06}"
      ]
     },
     "execution_count": 11,
     "metadata": {},
     "output_type": "execute_result"
    }
   ],
   "source": [
    "svrSearch.best_params_"
   ]
  },
  {
   "cell_type": "code",
   "execution_count": 6,
   "id": "c582d5ce",
   "metadata": {},
   "outputs": [],
   "source": [
    "#keep model for future comparison\n",
    "svrModel = LinearSVR(dual=False, loss='squared_epsilon_insensitive', C=.001, tol=1e-6)"
   ]
  },
  {
   "cell_type": "code",
   "execution_count": 23,
   "id": "47affbb3",
   "metadata": {},
   "outputs": [],
   "source": [
    "#third model: Random forest regression\n",
    "rfr = RandomForestRegressor()\n",
    "rfrPipeline = Pipeline([('scale', colScaler),('model', rfr)])\n",
    "params = {'model__n_estimators':[10,50,100],'model__min_samples_split':[2]+np.arange(50,501,50).tolist()}\n",
    "#trading verbose doesn't work with n_jobs which we need for this one\n",
    "rfrSearch = GridSearchCV(rfrPipeline, params, scoring='neg_mean_absolute_error', error_score='raise', n_jobs=-1, cv = 5)"
   ]
  },
  {
   "cell_type": "code",
   "execution_count": 24,
   "id": "6ddc32f8",
   "metadata": {},
   "outputs": [
    {
     "data": {
      "text/plain": [
       "GridSearchCV(cv=5, error_score='raise',\n",
       "             estimator=Pipeline(steps=[('scale',\n",
       "                                        ColumnTransformer(remainder='passthrough',\n",
       "                                                          transformers=[('scale',\n",
       "                                                                         StandardScaler(),\n",
       "                                                                         ['year',\n",
       "                                                                          'mileage',\n",
       "                                                                          'tax',\n",
       "                                                                          'mpg',\n",
       "                                                                          'engineSize',\n",
       "                                                                          'avgModelPrice'])])),\n",
       "                                       ('model', RandomForestRegressor())]),\n",
       "             n_jobs=-1,\n",
       "             param_grid={'model__min_samples_split': array([ 2,  4,  6,  8, 10, 12, 14, 16, 18, 20]),\n",
       "                         'model__n_estimators': [10, 50, 100]},\n",
       "             scoring='neg_mean_absolute_error')"
      ]
     },
     "execution_count": 24,
     "metadata": {},
     "output_type": "execute_result"
    }
   ],
   "source": [
    "rfrSearch.fit(X_train, y_train)"
   ]
  },
  {
   "cell_type": "code",
   "execution_count": 25,
   "id": "c676cb8b",
   "metadata": {},
   "outputs": [
    {
     "data": {
      "text/plain": [
       "{'model__min_samples_split': 2, 'model__n_estimators': 100}"
      ]
     },
     "execution_count": 25,
     "metadata": {},
     "output_type": "execute_result"
    }
   ],
   "source": [
    "rfrSearch.best_params_"
   ]
  },
  {
   "cell_type": "code",
   "execution_count": 41,
   "id": "31da4076",
   "metadata": {},
   "outputs": [],
   "source": [
    "#setting larger leaves doesn't make much impact and doesn't speed significantly\n",
    "#if we have very small max depth we can have more estimators\n",
    "params = {'model__n_estimators':[100,1000],'model__max_depth':np.arange(1,4)}\n",
    "rfrStumpSearch = GridSearchCV(rfrPipeline, params, scoring='neg_mean_absolute_error', error_score='raise', n_jobs=-1, cv = 5)"
   ]
  },
  {
   "cell_type": "code",
   "execution_count": 42,
   "id": "0d6d773a",
   "metadata": {},
   "outputs": [
    {
     "data": {
      "text/plain": [
       "GridSearchCV(cv=5, error_score='raise',\n",
       "             estimator=Pipeline(steps=[('scale',\n",
       "                                        ColumnTransformer(remainder='passthrough',\n",
       "                                                          transformers=[('scale',\n",
       "                                                                         StandardScaler(),\n",
       "                                                                         ['year',\n",
       "                                                                          'mileage',\n",
       "                                                                          'tax',\n",
       "                                                                          'mpg',\n",
       "                                                                          'engineSize',\n",
       "                                                                          'avgModelPrice'])])),\n",
       "                                       ('model', RandomForestRegressor())]),\n",
       "             n_jobs=-1,\n",
       "             param_grid={'model__max_depth': array([1, 2, 3]),\n",
       "                         'model__n_estimators': [100, 1000]},\n",
       "             scoring='neg_mean_absolute_error')"
      ]
     },
     "execution_count": 42,
     "metadata": {},
     "output_type": "execute_result"
    }
   ],
   "source": [
    "rfrStumpSearch.fit(X_train, y_train)"
   ]
  },
  {
   "cell_type": "code",
   "execution_count": 43,
   "id": "efc33772",
   "metadata": {},
   "outputs": [
    {
     "data": {
      "text/plain": [
       "{'model__max_depth': 3, 'model__n_estimators': 1000}"
      ]
     },
     "execution_count": 43,
     "metadata": {},
     "output_type": "execute_result"
    }
   ],
   "source": [
    "rfrStumpSearch.best_params_"
   ]
  },
  {
   "cell_type": "code",
   "execution_count": 7,
   "id": "ae4496de",
   "metadata": {},
   "outputs": [],
   "source": [
    "#save both models, but check if we should even bother with the stumps\n",
    "rfrStumpModel = RandomForestRegressor(max_depth=3, n_estimators=1000)\n",
    "rfrModel = RandomForestRegressor()"
   ]
  },
  {
   "cell_type": "code",
   "execution_count": 10,
   "id": "1698a87d",
   "metadata": {},
   "outputs": [
    {
     "data": {
      "text/plain": [
       "False"
      ]
     },
     "execution_count": 10,
     "metadata": {},
     "output_type": "execute_result"
    }
   ],
   "source": [
    "rfrStumpScore = rfrStumpModel.score(X_train,y_train)\n",
    "rfrScore = rfrModel.score(X_train,y_train)\n",
    "rfrStumpScore>rfrScore\n",
    "False"
   ]
  },
  {
   "cell_type": "code",
   "execution_count": 62,
   "id": "448beb45",
   "metadata": {},
   "outputs": [],
   "source": [
    "#nope. Uncomment this instead of running the searches again if needed:\n",
    "#rfrModel = RandomForestRegressor()\n",
    "\n",
    "#fourth model: Gradient boost regression\n",
    "gbr = GradientBoostingRegressor()\n",
    "gbrPipeline = Pipeline([('scale', colScaler),('model', gbr)])\n",
    "params = {'model__loss':['squared_error','absolute_error','huber','quantile']}\n",
    "gbrSearch = GridSearchCV(gbrPipeline, params, scoring='neg_mean_absolute_error', error_score='raise', n_jobs=-1, cv = 5)"
   ]
  },
  {
   "cell_type": "code",
   "execution_count": 63,
   "id": "d79157e0",
   "metadata": {},
   "outputs": [
    {
     "data": {
      "text/plain": [
       "GridSearchCV(cv=5, error_score='raise',\n",
       "             estimator=Pipeline(steps=[('scale',\n",
       "                                        ColumnTransformer(remainder='passthrough',\n",
       "                                                          transformers=[('scale',\n",
       "                                                                         StandardScaler(),\n",
       "                                                                         ['year',\n",
       "                                                                          'mileage',\n",
       "                                                                          'tax',\n",
       "                                                                          'mpg',\n",
       "                                                                          'engineSize',\n",
       "                                                                          'avgModelPrice'])])),\n",
       "                                       ('model', GradientBoostingRegressor())]),\n",
       "             n_jobs=-1,\n",
       "             param_grid={'model__loss': ['squared_error', 'absolute_error',\n",
       "                                         'huber', 'quantile']},\n",
       "             scoring='neg_mean_absolute_error')"
      ]
     },
     "execution_count": 63,
     "metadata": {},
     "output_type": "execute_result"
    }
   ],
   "source": [
    "gbrSearch.fit(X_train, y_train)"
   ]
  },
  {
   "cell_type": "code",
   "execution_count": 64,
   "id": "09080805",
   "metadata": {},
   "outputs": [
    {
     "data": {
      "text/plain": [
       "{'model__loss': 'huber'}"
      ]
     },
     "execution_count": 64,
     "metadata": {},
     "output_type": "execute_result"
    }
   ],
   "source": [
    "gbrSearch.best_params_"
   ]
  },
  {
   "cell_type": "code",
   "execution_count": 8,
   "id": "70c85962",
   "metadata": {},
   "outputs": [],
   "source": [
    "#keep model for future comparison\n",
    "gbrModel = GradientBoostingRegressor(loss='huber')"
   ]
  },
  {
   "cell_type": "code",
   "execution_count": 29,
   "id": "f86d8b03",
   "metadata": {},
   "outputs": [
    {
     "data": {
      "text/plain": [
       "GradientBoostingRegressor(loss='huber')"
      ]
     },
     "execution_count": 29,
     "metadata": {},
     "output_type": "execute_result"
    }
   ],
   "source": [
    "#uncomment and run to refit data if needed\n",
    "ridgeModel.fit(X_train,y_train)\n",
    "svrModel.fit(X_train,y_train)\n",
    "rfrModel.fit(X_train,y_train)\n",
    "gbrModel.fit(X_train,y_train)"
   ]
  },
  {
   "cell_type": "code",
   "execution_count": 31,
   "id": "53d6061a",
   "metadata": {},
   "outputs": [
    {
     "data": {
      "text/html": [
       "<div>\n",
       "<style scoped>\n",
       "    .dataframe tbody tr th:only-of-type {\n",
       "        vertical-align: middle;\n",
       "    }\n",
       "\n",
       "    .dataframe tbody tr th {\n",
       "        vertical-align: top;\n",
       "    }\n",
       "\n",
       "    .dataframe thead th {\n",
       "        text-align: right;\n",
       "    }\n",
       "</style>\n",
       "<table border=\"1\" class=\"dataframe\">\n",
       "  <thead>\n",
       "    <tr style=\"text-align: right;\">\n",
       "      <th></th>\n",
       "      <th>Scores</th>\n",
       "    </tr>\n",
       "  </thead>\n",
       "  <tbody>\n",
       "    <tr>\n",
       "      <th>Ridge</th>\n",
       "      <td>0.847770</td>\n",
       "    </tr>\n",
       "    <tr>\n",
       "      <th>SVR</th>\n",
       "      <td>0.811553</td>\n",
       "    </tr>\n",
       "    <tr>\n",
       "      <th>RandomForest</th>\n",
       "      <td>0.986738</td>\n",
       "    </tr>\n",
       "    <tr>\n",
       "      <th>GradientBoost</th>\n",
       "      <td>0.923424</td>\n",
       "    </tr>\n",
       "  </tbody>\n",
       "</table>\n",
       "</div>"
      ],
      "text/plain": [
       "                 Scores\n",
       "Ridge          0.847770\n",
       "SVR            0.811553\n",
       "RandomForest   0.986738\n",
       "GradientBoost  0.923424"
      ]
     },
     "execution_count": 31,
     "metadata": {},
     "output_type": "execute_result"
    }
   ],
   "source": [
    "#initial comparison on test data\n",
    "ridgeScore = ridgeModel.score(X_test,y_test)\n",
    "svrScore = svrModel.score(X_test,y_test)\n",
    "rfrScore = rfrModel.score(X_test,y_test)\n",
    "gbrScore = gbrModel.score(X_test,y_test)\n",
    "allScores = pd.DataFrame({'Scores':[ridgeScore,svrScore,rfrScore,gbrScore]}, index=['Ridge','SVR','RandomForest','GradientBoost'])\n",
    "allScores"
   ]
  },
  {
   "cell_type": "code",
   "execution_count": 32,
   "id": "fda35c9e",
   "metadata": {},
   "outputs": [
    {
     "data": {
      "text/html": [
       "<div>\n",
       "<style scoped>\n",
       "    .dataframe tbody tr th:only-of-type {\n",
       "        vertical-align: middle;\n",
       "    }\n",
       "\n",
       "    .dataframe tbody tr th {\n",
       "        vertical-align: top;\n",
       "    }\n",
       "\n",
       "    .dataframe thead th {\n",
       "        text-align: right;\n",
       "    }\n",
       "</style>\n",
       "<table border=\"1\" class=\"dataframe\">\n",
       "  <thead>\n",
       "    <tr style=\"text-align: right;\">\n",
       "      <th></th>\n",
       "      <th>explainedVariance</th>\n",
       "      <th>maxError</th>\n",
       "      <th>MSE</th>\n",
       "      <th>r2</th>\n",
       "    </tr>\n",
       "  </thead>\n",
       "  <tbody>\n",
       "    <tr>\n",
       "      <th>ridge</th>\n",
       "      <td>0.84777</td>\n",
       "      <td>100575.31161</td>\n",
       "      <td>14997268.358761</td>\n",
       "      <td>0.84777</td>\n",
       "    </tr>\n",
       "    <tr>\n",
       "      <th>SVR</th>\n",
       "      <td>0.811553</td>\n",
       "      <td>104391.173484</td>\n",
       "      <td>18565238.680877</td>\n",
       "      <td>0.811553</td>\n",
       "    </tr>\n",
       "    <tr>\n",
       "      <th>RandomForest</th>\n",
       "      <td>0.986739</td>\n",
       "      <td>67040.58</td>\n",
       "      <td>1306581.474119</td>\n",
       "      <td>0.986738</td>\n",
       "    </tr>\n",
       "    <tr>\n",
       "      <th>GradientBoost</th>\n",
       "      <td>0.923621</td>\n",
       "      <td>82720.587871</td>\n",
       "      <td>7544041.068188</td>\n",
       "      <td>0.923424</td>\n",
       "    </tr>\n",
       "  </tbody>\n",
       "</table>\n",
       "</div>"
      ],
      "text/plain": [
       "              explainedVariance       maxError              MSE        r2\n",
       "ridge                   0.84777   100575.31161  14997268.358761   0.84777\n",
       "SVR                    0.811553  104391.173484  18565238.680877  0.811553\n",
       "RandomForest           0.986739       67040.58   1306581.474119  0.986738\n",
       "GradientBoost          0.923621   82720.587871   7544041.068188  0.923424"
      ]
     },
     "execution_count": 32,
     "metadata": {},
     "output_type": "execute_result"
    }
   ],
   "source": [
    "#random forest seems promising, dig more\n",
    "models = {'ridge':ridgeModel, 'SVR':svrModel, 'RandomForest':rfrModel, 'GradientBoost':gbrModel}\n",
    "modelData = pd.DataFrame(columns=['explainedVariance','maxError','MSE','r2'], index=models.keys())\n",
    "for mod in models.keys():\n",
    "    y_pred = models[mod].predict(X_test)\n",
    "    modelData.loc[mod,'explainedVariance'] = explained_variance_score(y_test, y_pred)\n",
    "    modelData.loc[mod,'maxError'] = max_error(y_test, y_pred)\n",
    "    modelData.loc[mod,'MSE'] = mean_squared_error(y_test, y_pred)\n",
    "    modelData.loc[mod,'r2'] = r2_score(y_test, y_pred)\n",
    "modelData"
   ]
  },
  {
   "cell_type": "code",
   "execution_count": 34,
   "id": "d827e11c",
   "metadata": {},
   "outputs": [
    {
     "name": "stdout",
     "output_type": "stream",
     "text": [
      "Wall time: 19.1 s\n"
     ]
    },
    {
     "data": {
      "text/plain": [
       "RandomForestRegressor()"
      ]
     },
     "execution_count": 34,
     "metadata": {},
     "output_type": "execute_result"
    }
   ],
   "source": [
    "%%time\n",
    "#random forest performs best across the board but is the most costly\n",
    "rfrModel.fit(X_train,y_train)"
   ]
  },
  {
   "cell_type": "code",
   "execution_count": 39,
   "id": "9336b7a1",
   "metadata": {},
   "outputs": [
    {
     "name": "stdout",
     "output_type": "stream",
     "text": [
      "Wall time: 7.31 s\n"
     ]
    },
    {
     "data": {
      "text/plain": [
       "GradientBoostingRegressor(loss='huber')"
      ]
     },
     "execution_count": 39,
     "metadata": {},
     "output_type": "execute_result"
    }
   ],
   "source": [
    "%%time\n",
    "gbrModel.fit(X_train,y_train)"
   ]
  },
  {
   "cell_type": "markdown",
   "id": "d64c48ce",
   "metadata": {},
   "source": [
    "Given that gradient boosting gives a fairly close result with less than half the power/time required, it would be the best alternative if needed."
   ]
  },
  {
   "cell_type": "code",
   "execution_count": null,
   "id": "b02e71df",
   "metadata": {},
   "outputs": [],
   "source": []
  }
 ],
 "metadata": {
  "kernelspec": {
   "display_name": "Python 3 (ipykernel)",
   "language": "python",
   "name": "python3"
  },
  "language_info": {
   "codemirror_mode": {
    "name": "ipython",
    "version": 3
   },
   "file_extension": ".py",
   "mimetype": "text/x-python",
   "name": "python",
   "nbconvert_exporter": "python",
   "pygments_lexer": "ipython3",
   "version": "3.9.7"
  }
 },
 "nbformat": 4,
 "nbformat_minor": 5
}
